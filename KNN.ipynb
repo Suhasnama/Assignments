{
  "nbformat": 4,
  "nbformat_minor": 0,
  "metadata": {
    "colab": {
      "name": "KNN.ipynb",
      "version": "0.3.2",
      "provenance": [],
      "collapsed_sections": [],
      "include_colab_link": true
    },
    "kernelspec": {
      "name": "python3",
      "display_name": "Python 3"
    }
  },
  "cells": [
    {
      "cell_type": "markdown",
      "metadata": {
        "id": "view-in-github",
        "colab_type": "text"
      },
      "source": [
        "<a href=\"https://colab.research.google.com/github/Suhasnama/Assignments/blob/master/KNN.ipynb\" target=\"_parent\"><img src=\"https://colab.research.google.com/assets/colab-badge.svg\" alt=\"Open In Colab\"/></a>"
      ]
    },
    {
      "metadata": {
        "id": "FIrfp6M6y2eK",
        "colab_type": "code",
        "colab": {}
      },
      "cell_type": "code",
      "source": [
        "#Importing\n",
        "\n",
        "import random\n",
        "from scipy.spatial import distance"
      ],
      "execution_count": 0,
      "outputs": []
    },
    {
      "metadata": {
        "id": "BC_iTlYRAidL",
        "colab_type": "code",
        "colab": {}
      },
      "cell_type": "code",
      "source": [
        "def dist(x , y):\n",
        "# To Calculate the spatial distance between given two points\n",
        "  return distance.euclidean(x, y)"
      ],
      "execution_count": 0,
      "outputs": []
    },
    {
      "metadata": {
        "id": "n4P6kez3YjRO",
        "colab_type": "code",
        "colab": {}
      },
      "cell_type": "code",
      "source": [
        "def closest(row):\n",
        "# Returns the index of the least distance in the row\n",
        "  best_dist = row[0]\n",
        "  best_index = 0\n",
        "  for i in range(1 ,len(row)):\n",
        "    if row[i] < best_dist:\n",
        "      best_dist = row[i]\n",
        "      best_index = i\n",
        "  return best_index"
      ],
      "execution_count": 0,
      "outputs": []
    },
    {
      "metadata": {
        "colab_type": "code",
        "id": "CQyV3bR2_xrw",
        "colab": {}
      },
      "cell_type": "code",
      "source": [
        "# Classifier\n",
        "\n",
        "class KNN():\n",
        "  \n",
        "  rows_in_distances = []\n",
        "  distances =[]\n",
        "  labels = []\n",
        "  last_Y=[]\n",
        "  \n",
        "  def init(self):\n",
        "    pass  \n",
        "  \n",
        "\n",
        "  def fit(self , Train_X , Train_Y):\n",
        "# To train the model , literally  saves all the training data.\n",
        "    self.X = Train_X\n",
        "    self.Y = Train_Y\n",
        "  \n",
        "  def predict(self , Test_X):\n",
        "# Returns the predictions of the model/classifier\n",
        "    for i in range(len(Test_X)):\n",
        "      for j in range(len(self.X)):\n",
        "        self.rows_in_distances.append( dist ( Test_X[i] , self.X[j] ) )\n",
        "      self.labels.append(closest(self.rows_in_distances))\n",
        "      self.rows_in_distances = []\n",
        "    for i in self.labels:\n",
        "      self.last_Y.append(self.Y[i])\n",
        "    return self.last_Y\n",
        "  "
      ],
      "execution_count": 0,
      "outputs": []
    },
    {
      "metadata": {
        "id": "Y0nZuojUzs7h",
        "colab_type": "code",
        "outputId": "ec1c796f-0bfe-4cb3-dcbf-33326781eab1",
        "colab": {
          "base_uri": "https://localhost:8080/",
          "height": 69
        }
      },
      "cell_type": "code",
      "source": [
        "#Pipeline\n",
        "\n",
        "import numpy as np\n",
        "\n",
        "classifier = KNN()\n",
        "\n",
        "predictions = []\n",
        "\n",
        "X_Train = [1, 3, 4, 8, 6, 5]\n",
        "\n",
        "Y_Train = [0, 0, 0, 1, 1, 1]\n",
        "\n",
        "X_Test = [2, 7, 5]\n",
        "\n",
        "Y_Test = [0, 1 , 1]\n",
        "\n",
        "classifier.fit(X_Train , Y_Train)\n",
        "\n",
        "predictions = classifier.predict(X_Test)\n",
        "\n",
        "print(\"Predictions are :\",predictions)\n",
        "print(\"Labels are:\",Y_Test)\n"
      ],
      "execution_count": 0,
      "outputs": [
        {
          "output_type": "stream",
          "text": [
            "Predictions are : [0, 1, 1]\n",
            "Labels are: [0, 1, 1]\n",
            "Values are: [0, 0, 0, 1, 1, 1]\n"
          ],
          "name": "stdout"
        }
      ]
    }
  ]
}